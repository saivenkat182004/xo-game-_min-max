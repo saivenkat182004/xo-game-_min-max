{
  "nbformat": 4,
  "nbformat_minor": 0,
  "metadata": {
    "colab": {
      "provenance": [],
      "authorship_tag": "ABX9TyO+XuA+kQW/Se1xqn3XEnee",
      "include_colab_link": true
    },
    "kernelspec": {
      "name": "python3",
      "display_name": "Python 3"
    },
    "language_info": {
      "name": "python"
    }
  },
  "cells": [
    {
      "cell_type": "markdown",
      "metadata": {
        "id": "view-in-github",
        "colab_type": "text"
      },
      "source": [
        "<a href=\"https://colab.research.google.com/github/saivenkat182004/xo-game-_min-max/blob/main/Weather_check.ipynb\" target=\"_parent\"><img src=\"https://colab.research.google.com/assets/colab-badge.svg\" alt=\"Open In Colab\"/></a>"
      ]
    },
    {
      "cell_type": "markdown",
      "source": [
        "EXPERIMENT:1\n",
        "Implement weather modeling* using the quadratic solution in stages: hard-coding variables keyboard input, read\n",
        "from a file, for a single set of input, multiple sets of inputs.\n",
        "a. save all versions, debug, fix problems, create a Github account"
      ],
      "metadata": {
        "id": "O0HGBrhFUahL"
      }
    },
    {
      "cell_type": "code",
      "execution_count": 2,
      "metadata": {
        "colab": {
          "base_uri": "https://localhost:8080/"
        },
        "id": "g-cLdXZbUKE9",
        "outputId": "5830e08e-59fb-4145-a7e0-46f103d8986c"
      },
      "outputs": [
        {
          "output_type": "stream",
          "name": "stdout",
          "text": [
            "Enter Temperature (°C): 30\n",
            "Enter Wind Speed (km/h): 15\n",
            "Enter Humidity (%): 50\n",
            "Calculated tw (keyboard input): 426.5\n"
          ]
        }
      ],
      "source": [
        "def calculate_tw(t, w, h):\n",
        "    tw = 0.5 * t**2 + 0.1 * w - 0.2 * h - 15\n",
        "    return tw\n",
        "try:\n",
        "    temperature = float(input(\"Enter Temperature (°C): \"))\n",
        "    wind_speed = float(input(\"Enter Wind Speed (km/h): \"))\n",
        "    humidity = float(input(\"Enter Humidity (%): \"))\n",
        "    tw = calculate_tw(temperature, wind_speed, humidity)\n",
        "    print(f\"Calculated tw (keyboard input): {tw}\")\n",
        "except ValueError:\n",
        "    print(\"Invalid input! Please enter numerical values.\")\n"
      ]
    },
    {
      "cell_type": "code",
      "source": [
        "import pandas as pd\n",
        "from datetime import datetime\n",
        "def calculate_tw(t, w, h):\n",
        "    tw = 0.5 * t**2 + 0.1 * w - 0.2 * h - 15\n",
        "    return tw\n",
        "def calculate_tw_from_excel(file_path, date_str):\n",
        "    try:\n",
        "        df = pd.read_excel(file_path)\n",
        "        df['Date'] = pd.to_datetime(df['Date'], format='%Y-%m-%d')\n",
        "        user_date = datetime.strptime(date_str, '%Y-%m-%d')\n",
        "        row = df[df['Date'] == user_date]\n",
        "\n",
        "        if row.empty:\n",
        "            print(f\"No data found for the date: {date_str}\")\n",
        "            return\n",
        "        temperature = row['Temperature'].iloc[0]\n",
        "        wind_speed = row['Wind Speed'].iloc[0]\n",
        "        humidity = row['Humidity'].iloc[0]\n",
        "        tw = calculate_tw(temperature, wind_speed, humidity)\n",
        "        print(f\"Date: {date_str}\")\n",
        "        print(f\"Temperature: {temperature}°C, Wind Speed: {wind_speed} km/h, Humidity: {humidity}%\")\n",
        "        print(f\"Calculated tw: {tw}\")\n",
        "    except FileNotFoundError:\n",
        "        print(f\"File {file_path} not found.\")\n",
        "    except ValueError as e:\n",
        "        print(f\"Error processing the file: {e}\")\n",
        "def main():\n",
        "    file_path = 'weather.xlsx'\n",
        "    date_str = input(\"Enter the date (YYYY-MM-DD): \")\n",
        "    calculate_tw_from_excel(file_path, date_str)\n",
        "if __name__ == \"__main__\":\n",
        "    main()\n"
      ],
      "metadata": {
        "colab": {
          "base_uri": "https://localhost:8080/"
        },
        "id": "t4TURY6WX5gf",
        "outputId": "79cc37af-1bd2-407b-f83a-e2b329c229a9"
      },
      "execution_count": 3,
      "outputs": [
        {
          "output_type": "stream",
          "name": "stdout",
          "text": [
            "Enter the date (YYYY-MM-DD): 2024-12-06\n",
            "Date: 2024-12-06\n",
            "Temperature: 26°C, Wind Speed: 14 km/h, Humidity: 55%\n",
            "Calculated tw: 313.4\n"
          ]
        }
      ]
    },
    {
      "cell_type": "code",
      "source": [
        "import pandas as pd\n",
        "from datetime import datetime\n",
        "\n",
        "def calculate_tw(t, w, h):\n",
        "    tw = 0.5 * t**2 + 0.1 * w - 0.2 * h - 15\n",
        "    return tw\n",
        "\n",
        "def classify_weather(tw):\n",
        "    if tw > 350:\n",
        "        return \"Sunny\"\n",
        "    elif 250 < tw <= 350:\n",
        "        return \"Cloudy\"\n",
        "    elif 150 < tw <= 250:\n",
        "        return \"Rainy\"\n",
        "    else:\n",
        "        return \"Stormy\"\n",
        "\n",
        "def calculate_weather_for_date(file_path, date_str):\n",
        "    try:\n",
        "        df = pd.read_excel(file_path)\n",
        "        df['Date'] = pd.to_datetime(df['Date'], format='%d-%m-%Y')\n",
        "        user_date = datetime.strptime(date_str, '%d-%m-%Y')\n",
        "        row = df[df['Date'] == user_date]\n",
        "\n",
        "        if row.empty:\n",
        "            print(f\"No data found for the date: {date_str}\")\n",
        "            return\n",
        "\n",
        "        temperature = row['Temperature'].iloc[0]\n",
        "        wind_speed = row['Wind Speed'].iloc[0]\n",
        "        humidity = row['Humidity'].iloc[0]\n",
        "        tw = calculate_tw(temperature, wind_speed, humidity)\n",
        "        condition = classify_weather(tw)\n",
        "\n",
        "        print(f\"Date: {date_str}\")\n",
        "        print(f\"Temperature: {temperature}°C, Wind Speed: {wind_speed} km/h, Humidity: {humidity}%\")\n",
        "        print(f\"Calculated tw: {tw}\")\n",
        "        print(f\"Weather Condition: {condition}\")\n",
        "    except FileNotFoundError:\n",
        "        print(f\"File {file_path} not found.\")\n",
        "    except ValueError as e:\n",
        "        print(f\"Error processing the file: {e}\")\n",
        "\n",
        "def main():\n",
        "    file_path = 'weather.xlsx'\n",
        "    date_str = input(\"Enter the date (DD-MM-YYYY): \")\n",
        "    calculate_weather_for_date(file_path, date_str)\n",
        "\n",
        "if __name__ == \"__main__\":\n",
        "    main()\n"
      ],
      "metadata": {
        "colab": {
          "base_uri": "https://localhost:8080/"
        },
        "id": "LCbsxVo6cqSx",
        "outputId": "46b8f933-1c06-4c52-9dc5-da0de032a1d0"
      },
      "execution_count": 6,
      "outputs": [
        {
          "output_type": "stream",
          "name": "stdout",
          "text": [
            "Enter the date (DD-MM-YYYY): 8-12-2024\n",
            "Date: 8-12-2024\n",
            "Temperature: 24°C, Wind Speed: 11 km/h, Humidity: 62%\n",
            "Calculated tw: 261.70000000000005\n",
            "Weather Condition: Cloudy\n"
          ]
        }
      ]
    }
  ]
}